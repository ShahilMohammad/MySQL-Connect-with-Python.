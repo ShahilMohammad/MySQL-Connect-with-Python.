{
 "cells": [
  {
   "cell_type": "code",
   "execution_count": 2,
   "id": "b2ecf3fb",
   "metadata": {
    "scrolled": true
   },
   "outputs": [
    {
     "name": "stdout",
     "output_type": "stream",
     "text": [
      "Requirement already satisfied: mysql-connector-python in c:\\users\\dell\\anaconda3\\lib\\site-packages (8.0.33)\n",
      "Requirement already satisfied: protobuf<=3.20.3,>=3.11.0 in c:\\users\\dell\\anaconda3\\lib\\site-packages (from mysql-connector-python) (3.20.3)\n",
      "Note: you may need to restart the kernel to use updated packages.\n"
     ]
    }
   ],
   "source": [
    "pip install mysql-connector-python"
   ]
  },
  {
   "cell_type": "code",
   "execution_count": 3,
   "id": "0e5001f6",
   "metadata": {},
   "outputs": [],
   "source": [
    "import mysql.connector"
   ]
  },
  {
   "cell_type": "code",
   "execution_count": 5,
   "id": "6ef51d33",
   "metadata": {},
   "outputs": [],
   "source": [
    "con=mysql.connector.connect(host='localhost',user='root',password='123456')"
   ]
  },
  {
   "cell_type": "code",
   "execution_count": 6,
   "id": "c3eefd43",
   "metadata": {},
   "outputs": [],
   "source": [
    "cur=con.cursor()"
   ]
  },
  {
   "cell_type": "code",
   "execution_count": 7,
   "id": "19a094b3",
   "metadata": {},
   "outputs": [],
   "source": [
    "cur.execute('show databases')"
   ]
  },
  {
   "cell_type": "code",
   "execution_count": 8,
   "id": "ea615add",
   "metadata": {},
   "outputs": [
    {
     "data": {
      "text/plain": [
       "[('amazon',),\n",
       " ('apple',),\n",
       " ('employee',),\n",
       " ('flipkart',),\n",
       " ('information_schema',),\n",
       " ('mysql',),\n",
       " ('office',),\n",
       " ('performance_schema',)]"
      ]
     },
     "execution_count": 8,
     "metadata": {},
     "output_type": "execute_result"
    }
   ],
   "source": [
    "cur.fetchall()"
   ]
  },
  {
   "cell_type": "code",
   "execution_count": 9,
   "id": "7fec2036",
   "metadata": {},
   "outputs": [
    {
     "data": {
      "text/plain": [
       "[]"
      ]
     },
     "execution_count": 9,
     "metadata": {},
     "output_type": "execute_result"
    }
   ],
   "source": [
    "cur.fetchall()"
   ]
  },
  {
   "cell_type": "code",
   "execution_count": 10,
   "id": "823021ea",
   "metadata": {},
   "outputs": [],
   "source": [
    "cur.execute('show databases')"
   ]
  },
  {
   "cell_type": "code",
   "execution_count": 11,
   "id": "f184f5d8",
   "metadata": {},
   "outputs": [
    {
     "name": "stdout",
     "output_type": "stream",
     "text": [
      "Databases are:- \n",
      "('amazon',)\n",
      "('apple',)\n",
      "('employee',)\n",
      "('flipkart',)\n",
      "('information_schema',)\n",
      "('mysql',)\n",
      "('office',)\n",
      "('performance_schema',)\n"
     ]
    }
   ],
   "source": [
    "print('Databases are:- ')\n",
    "for i in cur:\n",
    "    print(i)"
   ]
  },
  {
   "cell_type": "code",
   "execution_count": 12,
   "id": "d97e2d6c",
   "metadata": {},
   "outputs": [],
   "source": [
    "con.close()"
   ]
  },
  {
   "cell_type": "code",
   "execution_count": 13,
   "id": "94d086a3",
   "metadata": {},
   "outputs": [
    {
     "ename": "ProgrammingError",
     "evalue": "2055: Cursor is not connected",
     "output_type": "error",
     "traceback": [
      "\u001b[1;31m---------------------------------------------------------------------------\u001b[0m",
      "\u001b[1;31mProgrammingError\u001b[0m                          Traceback (most recent call last)",
      "File \u001b[1;32m~\\anaconda3\\lib\\site-packages\\mysql\\connector\\cursor_cext.py:300\u001b[0m, in \u001b[0;36mCMySQLCursor.execute\u001b[1;34m(self, operation, params, multi)\u001b[0m\n\u001b[0;32m    299\u001b[0m     \u001b[38;5;28;01mif\u001b[39;00m \u001b[38;5;129;01mnot\u001b[39;00m \u001b[38;5;28mself\u001b[39m\u001b[38;5;241m.\u001b[39m_cnx \u001b[38;5;129;01mor\u001b[39;00m \u001b[38;5;28mself\u001b[39m\u001b[38;5;241m.\u001b[39m_cnx\u001b[38;5;241m.\u001b[39mis_closed():\n\u001b[1;32m--> 300\u001b[0m         \u001b[38;5;28;01mraise\u001b[39;00m ProgrammingError\n\u001b[0;32m    301\u001b[0m \u001b[38;5;28;01mexcept\u001b[39;00m (ProgrammingError, \u001b[38;5;167;01mReferenceError\u001b[39;00m) \u001b[38;5;28;01mas\u001b[39;00m err:\n",
      "\u001b[1;31mProgrammingError\u001b[0m: Unknown error",
      "\nThe above exception was the direct cause of the following exception:\n",
      "\u001b[1;31mProgrammingError\u001b[0m                          Traceback (most recent call last)",
      "Cell \u001b[1;32mIn[13], line 1\u001b[0m\n\u001b[1;32m----> 1\u001b[0m \u001b[43mcur\u001b[49m\u001b[38;5;241;43m.\u001b[39;49m\u001b[43mexecute\u001b[49m\u001b[43m(\u001b[49m\u001b[38;5;124;43m'\u001b[39;49m\u001b[38;5;124;43mshow databases\u001b[39;49m\u001b[38;5;124;43m'\u001b[39;49m\u001b[43m)\u001b[49m\n",
      "File \u001b[1;32m~\\anaconda3\\lib\\site-packages\\mysql\\connector\\cursor_cext.py:302\u001b[0m, in \u001b[0;36mCMySQLCursor.execute\u001b[1;34m(self, operation, params, multi)\u001b[0m\n\u001b[0;32m    300\u001b[0m         \u001b[38;5;28;01mraise\u001b[39;00m ProgrammingError\n\u001b[0;32m    301\u001b[0m \u001b[38;5;28;01mexcept\u001b[39;00m (ProgrammingError, \u001b[38;5;167;01mReferenceError\u001b[39;00m) \u001b[38;5;28;01mas\u001b[39;00m err:\n\u001b[1;32m--> 302\u001b[0m     \u001b[38;5;28;01mraise\u001b[39;00m ProgrammingError(\u001b[38;5;124m\"\u001b[39m\u001b[38;5;124mCursor is not connected\u001b[39m\u001b[38;5;124m\"\u001b[39m, \u001b[38;5;241m2055\u001b[39m) \u001b[38;5;28;01mfrom\u001b[39;00m \u001b[38;5;21;01merr\u001b[39;00m\n\u001b[0;32m    303\u001b[0m \u001b[38;5;28mself\u001b[39m\u001b[38;5;241m.\u001b[39m_cnx\u001b[38;5;241m.\u001b[39mhandle_unread_result()\n\u001b[0;32m    305\u001b[0m stmt \u001b[38;5;241m=\u001b[39m \u001b[38;5;124m\"\u001b[39m\u001b[38;5;124m\"\u001b[39m\n",
      "\u001b[1;31mProgrammingError\u001b[0m: 2055: Cursor is not connected"
     ]
    }
   ],
   "source": [
    "cur.execute('show databases')"
   ]
  },
  {
   "cell_type": "code",
   "execution_count": 17,
   "id": "fca548c1",
   "metadata": {},
   "outputs": [],
   "source": [
    "con=mysql.connector.connect(host='localhost',user='root',password='123456',db='amazon')"
   ]
  },
  {
   "cell_type": "code",
   "execution_count": 18,
   "id": "104b5ed4",
   "metadata": {},
   "outputs": [],
   "source": [
    "cur=con.cursor()"
   ]
  },
  {
   "cell_type": "code",
   "execution_count": 19,
   "id": "d6338299",
   "metadata": {},
   "outputs": [],
   "source": [
    "cur.execute('show tables')"
   ]
  },
  {
   "cell_type": "code",
   "execution_count": 20,
   "id": "19ef204e",
   "metadata": {},
   "outputs": [
    {
     "data": {
      "text/plain": [
       "[('amazon',)]"
      ]
     },
     "execution_count": 20,
     "metadata": {},
     "output_type": "execute_result"
    }
   ],
   "source": [
    "cur.fetchall()"
   ]
  },
  {
   "cell_type": "code",
   "execution_count": 22,
   "id": "6726c513",
   "metadata": {},
   "outputs": [],
   "source": [
    "cur.execute('select * from amazon')"
   ]
  },
  {
   "cell_type": "code",
   "execution_count": 23,
   "id": "06764f1a",
   "metadata": {},
   "outputs": [
    {
     "data": {
      "text/plain": [
       "[(1001, 'Sahil', 'New Delhi', 'Data intern', 50000, 'M', '9919222658'),\n",
       " (1002, 'Aryan', 'Lucknow', 'Doctor', 250000, 'M', '9867873456'),\n",
       " (1003, 'Arman', 'New Delhi', 'Google cloud', 500000, 'M', '9987345690'),\n",
       " (1004, 'Suraj', 'Lucknow', 'Sales', 25000, 'M', '7058352989'),\n",
       " (1005, 'Sarika', 'Banglore', 'Assistant maneger', 250000, 'F', '7051332989'),\n",
       " (1006, 'Arvind', 'Patna', 'HR Maneger', 50000, 'M', '8726395570'),\n",
       " (1007, 'Anand kumar', 'New Delhi', 'Trainer', 600000, 'M', '895278890'),\n",
       " (1008, 'Sharika', 'Kolkata', 'Egineer', 600000, 'F', '7085431278'),\n",
       " (1009, 'Garima', 'Gujrat', 'Programmer', 20000, 'F', '9262878790'),\n",
       " (1010, 'Gudiya', 'Gungaon', 'Sale Maneger', 40000, 'F', '9806234580'),\n",
       " (1011, 'Kaiser', 'Mehrauli', 'Data Analyst', 50000, 'M', '9318464543'),\n",
       " (1012, 'Saima', 'Delhi', 'Project Maneger', 150000, 'M', '9876567898'),\n",
       " (14735, 'Simran sorout', 'Agra', 'Data intern', 32000, 'F', '9728080111'),\n",
       " (15187, 'Shadia khan', 'Delhi', 'Data Analyst', 30000, 'F', '7290911233'),\n",
       " (15197,\n",
       "  'Lalita joshi',\n",
       "  'New Delhi',\n",
       "  'Data Analyst',\n",
       "  25000,\n",
       "  'F',\n",
       "  '8527215219'),\n",
       " (15223, 'Mohd shahil', 'Up', 'Data Analyst', 50000, 'M', '9919222658'),\n",
       " (15665,\n",
       "  'Nimra Ashai',\n",
       "  'Shahdara Delhi',\n",
       "  'Bussiness Analyst',\n",
       "  40000,\n",
       "  'F',\n",
       "  '7780842226')]"
      ]
     },
     "execution_count": 23,
     "metadata": {},
     "output_type": "execute_result"
    }
   ],
   "source": [
    "cur.fetchall()"
   ]
  },
  {
   "cell_type": "code",
   "execution_count": 24,
   "id": "23bc69e6",
   "metadata": {},
   "outputs": [],
   "source": [
    "cur.execute(\"insert into amazon values(1064,'Agel','Up','Intern',60000,'F',9838902366)\")"
   ]
  },
  {
   "cell_type": "code",
   "execution_count": 25,
   "id": "7051edbe",
   "metadata": {},
   "outputs": [],
   "source": [
    "con.commit()"
   ]
  },
  {
   "cell_type": "code",
   "execution_count": 26,
   "id": "4b4f4230",
   "metadata": {},
   "outputs": [],
   "source": [
    "con.close()"
   ]
  },
  {
   "cell_type": "code",
   "execution_count": 27,
   "id": "fb9a0c34",
   "metadata": {},
   "outputs": [],
   "source": [
    "con=mysql.connector.connect(host='localhost',user='root',password='123456')"
   ]
  },
  {
   "cell_type": "code",
   "execution_count": 28,
   "id": "5d9aba33",
   "metadata": {},
   "outputs": [],
   "source": [
    "cur=con.cursor()"
   ]
  },
  {
   "cell_type": "code",
   "execution_count": 29,
   "id": "f4f071cf",
   "metadata": {},
   "outputs": [],
   "source": [
    "cur.execute('Create Database Bank')"
   ]
  },
  {
   "cell_type": "code",
   "execution_count": 30,
   "id": "89b8a283",
   "metadata": {},
   "outputs": [],
   "source": [
    "cur.execute('use bank')"
   ]
  },
  {
   "cell_type": "code",
   "execution_count": 32,
   "id": "7e14ba67",
   "metadata": {},
   "outputs": [],
   "source": [
    "cur.execute('Create table Staff(id_num int,name varchar(10),salary int,contact int(64))')"
   ]
  },
  {
   "cell_type": "code",
   "execution_count": 33,
   "id": "02d334a0",
   "metadata": {},
   "outputs": [],
   "source": [
    "cur.execute(\"Insert into staff values(1,'Sonu',24000,98765),(2,'Amit',50000,23743),(3,'Sumit',123456,11111)\")"
   ]
  },
  {
   "cell_type": "code",
   "execution_count": 34,
   "id": "b3679914",
   "metadata": {},
   "outputs": [],
   "source": [
    "con.commit()"
   ]
  },
  {
   "cell_type": "code",
   "execution_count": 35,
   "id": "83eecde8",
   "metadata": {},
   "outputs": [
    {
     "data": {
      "text/plain": [
       "[(1, 'Sonu', 24000, 98765),\n",
       " (2, 'Amit', 50000, 23743),\n",
       " (3, 'Sumit', 123456, 11111)]"
      ]
     },
     "execution_count": 35,
     "metadata": {},
     "output_type": "execute_result"
    }
   ],
   "source": [
    "cur.execute('Select * from staff')\n",
    "cur.fetchall()"
   ]
  },
  {
   "cell_type": "code",
   "execution_count": 36,
   "id": "dd710a4a",
   "metadata": {},
   "outputs": [],
   "source": [
    "con.close()"
   ]
  },
  {
   "cell_type": "code",
   "execution_count": null,
   "id": "27cdc437",
   "metadata": {},
   "outputs": [],
   "source": []
  }
 ],
 "metadata": {
  "kernelspec": {
   "display_name": "Python 3 (ipykernel)",
   "language": "python",
   "name": "python3"
  },
  "language_info": {
   "codemirror_mode": {
    "name": "ipython",
    "version": 3
   },
   "file_extension": ".py",
   "mimetype": "text/x-python",
   "name": "python",
   "nbconvert_exporter": "python",
   "pygments_lexer": "ipython3",
   "version": "3.11.5"
  }
 },
 "nbformat": 4,
 "nbformat_minor": 5
}
